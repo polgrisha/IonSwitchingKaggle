{
 "cells": [
  {
   "cell_type": "markdown",
   "metadata": {},
   "source": [
    "## Алгоритм Витерби без обучения на отдельных батчах\n",
    "\n",
    "В данном ноутбуке рассмотрена реализация алгоритма Витерби без обучения на отдельных схожих сегментах данных.\n",
    "\n",
    "В данном случае это будет нам полезно возможностью использования данного алгоритма при стекинге с бустингами и лесами.\n",
    "\n",
    "В данном ноутбуке не так много оригинального кода.\n",
    "В основном использованы результаты отсюда: https://www.kaggle.com/friedchips/the-viterbi-algorithm-a-complete-solution\n",
    "\n",
    "И отсюда: https://www.kaggle.com/miklgr500/viterbi-algorithm-without-segmentation-on-groups\n",
    "\n",
    "В данном случае пока достаточно понимания принципа работы данного алгоритма. Реализовывать его самостоятельно пока не имеет смысла в связи с тем, что есть ненулевая вероятность того, что данный алгоритм ничего не даст при стекинге, т.к. его качество (~ 0.93 - 0.934) недотягивает до качества стекингов, лесов и нейронных сетей, и может быть попросту незамечено метамоделью стекинга."
   ]
  },
  {
   "cell_type": "code",
   "execution_count": 2,
   "metadata": {},
   "outputs": [],
   "source": [
    "import os\n",
    "\n",
    "import numpy as np\n",
    "import pandas as pd\n",
    "import matplotlib.pyplot as plt\n",
    "import seaborn as sns\n",
    "\n",
    "from tqdm.notebook import tqdm\n",
    "\n",
    "from sklearn.metrics import f1_score, accuracy_score, confusion_matrix\n",
    "from sklearn.model_selection import StratifiedKFold, KFold\n",
    "\n",
    "\n",
    "plt.style.use('dark_background')"
   ]
  },
  {
   "cell_type": "markdown",
   "metadata": {},
   "source": [
    "Попробуем сначала использовать предобработанный датасет с более интелектуальной очисткой данных,\n",
    "рассмотренный в вышеперечисленных публичных ноутбуках."
   ]
  },
  {
   "cell_type": "code",
   "execution_count": 7,
   "metadata": {},
   "outputs": [],
   "source": [
    "train = pd.read_csv('clean-kalman/train_clean_kalman.csv')\n",
    "test  = pd.read_csv('clean-kalman/test_clean_kalman.csv')"
   ]
  },
  {
   "cell_type": "code",
   "execution_count": 8,
   "metadata": {},
   "outputs": [],
   "source": [
    "class ViterbiClassifier:\n",
    "    def __init__(self, num_bins=1000):\n",
    "        self._n_bins = num_bins\n",
    "        self._p_trans = None\n",
    "        self._p_signal = None\n",
    "        self._signal_bins = None\n",
    "        self._p_in = None\n",
    "    \n",
    "    def fit(self, x, y):\n",
    "        self._p_trans = self.markov_p_trans(y)\n",
    "        self._p_signal, self._signal_bins = self.markov_p_signal(true_state, x, self._n_bins)\n",
    "        \n",
    "        self._p_in = np.ones(len(self._p_trans)) / len(self._p_trans)\n",
    "        return self\n",
    "        \n",
    "    def predict(self, x):\n",
    "        x_dig = self.digitize_signal(x, self._signal_bins)\n",
    "        return self.viterbi(self._p_trans, self._p_signal, self._p_in, x_dig)\n",
    "    \n",
    "    @classmethod\n",
    "    def digitize_signal(cls, signal, signal_bins):\n",
    "        # https://www.kaggle.com/friedchips/the-viterbi-algorithm-a-complete-solution\n",
    "        signal_dig = np.digitize(signal, bins=signal_bins) - 1 \n",
    "        signal_dig = np.minimum(signal_dig, len(signal_bins) - 2)\n",
    "        return signal_dig\n",
    "    \n",
    "    @classmethod\n",
    "    def markov_p_signal(cls, state, signal, num_bins = 1000):\n",
    "        # https://www.kaggle.com/friedchips/the-viterbi-algorithm-a-complete-solution\n",
    "        states_range = np.arange(state.min(), state.max() + 1)\n",
    "        signal_bins = np.linspace(signal.min(),\n",
    "                                  signal.max(), \n",
    "                                  num_bins + 1)\n",
    "        p_signal = np.array([ np.histogram(signal[state == s],\n",
    "                                           bins=signal_bins)[0] for s in states_range ])\n",
    "        p_signal = np.array([ p / np.sum(p) if np.sum(p) != 0 else p for p in p_signal ])\n",
    "        return p_signal, signal_bins\n",
    "    \n",
    "    @classmethod\n",
    "    def markov_p_trans(cls, states):\n",
    "        # https://www.kaggle.com/friedchips/the-viterbi-algorithm-a-complete-solution\n",
    "        max_state = np.max(states)\n",
    "        states_next = np.roll(states, -1)\n",
    "        matrix = []\n",
    "        for i in tqdm(range(max_state + 1)):\n",
    "            current_row = np.histogram(states_next[states == i],\n",
    "                                       bins=np.arange(max_state + 2))[0]\n",
    "            if np.sum(current_row) == 0:\n",
    "                current_row = np.ones(max_state + 1) / (max_state + 1)\n",
    "            else:\n",
    "                current_row = current_row / np.sum(current_row) \n",
    "            matrix.append(current_row)\n",
    "        return np.array(matrix)\n",
    "    \n",
    "    @classmethod\n",
    "    def viterbi(cls, p_trans, p_signal, p_in, signal):\n",
    "        # https://www.kaggle.com/friedchips/the-viterbi-algorithm-a-complete-solution\n",
    "        offset = 10**(-20) \n",
    "\n",
    "        p_trans_tlog  = np.transpose(np.log2(p_trans  + offset))\n",
    "        p_signal_tlog = np.transpose(np.log2(p_signal + offset))\n",
    "        p_in_log      =              np.log2(p_in     + offset)\n",
    "\n",
    "        p_state_log = [ p_in_log + p_signal_tlog[signal[0]] ]\n",
    "\n",
    "        for s in tqdm(signal[1:]):\n",
    "            p_state_log.append(np.max(p_state_log[-1] + p_trans_tlog, axis=1)\n",
    "                               + p_signal_tlog[s])\n",
    "\n",
    "        states = np.argmax(p_state_log, axis=1)\n",
    "    \n",
    "        return states"
   ]
  },
  {
   "cell_type": "code",
   "execution_count": 9,
   "metadata": {},
   "outputs": [],
   "source": [
    "true_state = train.open_channels.values\n",
    "signal = train.signal.values"
   ]
  },
  {
   "cell_type": "markdown",
   "metadata": {},
   "source": [
    "Обучение"
   ]
  },
  {
   "cell_type": "code",
   "execution_count": 10,
   "metadata": {},
   "outputs": [
    {
     "data": {
      "application/vnd.jupyter.widget-view+json": {
       "model_id": "a78945870ea243348c416fa105e138a4",
       "version_major": 2,
       "version_minor": 0
      },
      "text/plain": [
       "HBox(children=(FloatProgress(value=0.0, max=11.0), HTML(value='')))"
      ]
     },
     "metadata": {},
     "output_type": "display_data"
    },
    {
     "name": "stdout",
     "output_type": "stream",
     "text": [
      "\n"
     ]
    },
    {
     "data": {
      "application/vnd.jupyter.widget-view+json": {
       "model_id": "308b3368c4a549c3b77aea51858202ea",
       "version_major": 2,
       "version_minor": 0
      },
      "text/plain": [
       "HBox(children=(FloatProgress(value=0.0, max=4818797.0), HTML(value='')))"
      ]
     },
     "metadata": {},
     "output_type": "display_data"
    },
    {
     "name": "stdout",
     "output_type": "stream",
     "text": [
      "\n"
     ]
    }
   ],
   "source": [
    "viterbi = ViterbiClassifier().fit(signal, true_state)\n",
    "train_prediction = viterbi.predict(signal)"
   ]
  },
  {
   "cell_type": "code",
   "execution_count": 11,
   "metadata": {},
   "outputs": [
    {
     "name": "stdout",
     "output_type": "stream",
     "text": [
      "Accuracy = 0.9641219656852186\n",
      "F1 macro = 0.9320404278331105\n"
     ]
    }
   ],
   "source": [
    "print(\"Accuracy =\", accuracy_score(y_pred=train_prediction, y_true=true_state))\n",
    "print(\"F1 macro =\", f1_score(y_pred=train_prediction, y_true=true_state, average='macro'))"
   ]
  },
  {
   "cell_type": "code",
   "execution_count": 12,
   "metadata": {},
   "outputs": [
    {
     "data": {
      "application/vnd.jupyter.widget-view+json": {
       "model_id": "7efdbb0a328b4ea1bd3f606c8244fe0a",
       "version_major": 2,
       "version_minor": 0
      },
      "text/plain": [
       "HBox(children=(FloatProgress(value=0.0, max=5.0), HTML(value='')))"
      ]
     },
     "metadata": {},
     "output_type": "display_data"
    },
    {
     "data": {
      "application/vnd.jupyter.widget-view+json": {
       "model_id": "11d5ee4498544cbbb240cb4cc0b8c23d",
       "version_major": 2,
       "version_minor": 0
      },
      "text/plain": [
       "HBox(children=(FloatProgress(value=0.0, max=11.0), HTML(value='')))"
      ]
     },
     "metadata": {},
     "output_type": "display_data"
    },
    {
     "name": "stdout",
     "output_type": "stream",
     "text": [
      "\n"
     ]
    },
    {
     "data": {
      "application/vnd.jupyter.widget-view+json": {
       "model_id": "bd457816032b4f02871a2bed98f5c04d",
       "version_major": 2,
       "version_minor": 0
      },
      "text/plain": [
       "HBox(children=(FloatProgress(value=0.0, max=963759.0), HTML(value='')))"
      ]
     },
     "metadata": {},
     "output_type": "display_data"
    },
    {
     "name": "stdout",
     "output_type": "stream",
     "text": [
      "\n"
     ]
    },
    {
     "data": {
      "application/vnd.jupyter.widget-view+json": {
       "model_id": "60bff280317740e69efa350eaeccc25c",
       "version_major": 2,
       "version_minor": 0
      },
      "text/plain": [
       "HBox(children=(FloatProgress(value=0.0, max=1999999.0), HTML(value='')))"
      ]
     },
     "metadata": {},
     "output_type": "display_data"
    },
    {
     "name": "stdout",
     "output_type": "stream",
     "text": [
      "\n",
      "score: 0.9293983141212808\n"
     ]
    },
    {
     "data": {
      "application/vnd.jupyter.widget-view+json": {
       "model_id": "3a66f003aa0e43ddba2577ed2bb0a8d3",
       "version_major": 2,
       "version_minor": 0
      },
      "text/plain": [
       "HBox(children=(FloatProgress(value=0.0, max=11.0), HTML(value='')))"
      ]
     },
     "metadata": {},
     "output_type": "display_data"
    },
    {
     "name": "stdout",
     "output_type": "stream",
     "text": [
      "\n"
     ]
    },
    {
     "data": {
      "application/vnd.jupyter.widget-view+json": {
       "model_id": "c8522b42f0054c6ebdb8c26e3e235bed",
       "version_major": 2,
       "version_minor": 0
      },
      "text/plain": [
       "HBox(children=(FloatProgress(value=0.0, max=963759.0), HTML(value='')))"
      ]
     },
     "metadata": {},
     "output_type": "display_data"
    },
    {
     "name": "stdout",
     "output_type": "stream",
     "text": [
      "\n"
     ]
    },
    {
     "data": {
      "application/vnd.jupyter.widget-view+json": {
       "model_id": "ec3399f9fe0c4c6499d605a651262575",
       "version_major": 2,
       "version_minor": 0
      },
      "text/plain": [
       "HBox(children=(FloatProgress(value=0.0, max=1999999.0), HTML(value='')))"
      ]
     },
     "metadata": {},
     "output_type": "display_data"
    },
    {
     "name": "stdout",
     "output_type": "stream",
     "text": [
      "\n",
      "score: 0.9294417188919251\n"
     ]
    },
    {
     "data": {
      "application/vnd.jupyter.widget-view+json": {
       "model_id": "c8e0b07f55e64cb5bc18b8f98a41ea11",
       "version_major": 2,
       "version_minor": 0
      },
      "text/plain": [
       "HBox(children=(FloatProgress(value=0.0, max=11.0), HTML(value='')))"
      ]
     },
     "metadata": {},
     "output_type": "display_data"
    },
    {
     "name": "stdout",
     "output_type": "stream",
     "text": [
      "\n"
     ]
    },
    {
     "data": {
      "application/vnd.jupyter.widget-view+json": {
       "model_id": "036bb91d48b94332b496417317149705",
       "version_major": 2,
       "version_minor": 0
      },
      "text/plain": [
       "HBox(children=(FloatProgress(value=0.0, max=963759.0), HTML(value='')))"
      ]
     },
     "metadata": {},
     "output_type": "display_data"
    },
    {
     "name": "stdout",
     "output_type": "stream",
     "text": [
      "\n"
     ]
    },
    {
     "data": {
      "application/vnd.jupyter.widget-view+json": {
       "model_id": "3b9e0f9399cf4cdfb13cc33c96514d53",
       "version_major": 2,
       "version_minor": 0
      },
      "text/plain": [
       "HBox(children=(FloatProgress(value=0.0, max=1999999.0), HTML(value='')))"
      ]
     },
     "metadata": {},
     "output_type": "display_data"
    },
    {
     "name": "stdout",
     "output_type": "stream",
     "text": [
      "\n",
      "score: 0.9298128243081841\n"
     ]
    },
    {
     "data": {
      "application/vnd.jupyter.widget-view+json": {
       "model_id": "ebf8b2b5df714e47a2d1277c3c76d958",
       "version_major": 2,
       "version_minor": 0
      },
      "text/plain": [
       "HBox(children=(FloatProgress(value=0.0, max=11.0), HTML(value='')))"
      ]
     },
     "metadata": {},
     "output_type": "display_data"
    },
    {
     "name": "stdout",
     "output_type": "stream",
     "text": [
      "\n"
     ]
    },
    {
     "data": {
      "application/vnd.jupyter.widget-view+json": {
       "model_id": "8a473b1e5b3a4a1c868a5fea0c0744d1",
       "version_major": 2,
       "version_minor": 0
      },
      "text/plain": [
       "HBox(children=(FloatProgress(value=0.0, max=963758.0), HTML(value='')))"
      ]
     },
     "metadata": {},
     "output_type": "display_data"
    },
    {
     "name": "stdout",
     "output_type": "stream",
     "text": [
      "\n"
     ]
    },
    {
     "data": {
      "application/vnd.jupyter.widget-view+json": {
       "model_id": "38ca8f3d3bd4400fb2e9a98fa2218ea6",
       "version_major": 2,
       "version_minor": 0
      },
      "text/plain": [
       "HBox(children=(FloatProgress(value=0.0, max=1999999.0), HTML(value='')))"
      ]
     },
     "metadata": {},
     "output_type": "display_data"
    },
    {
     "name": "stdout",
     "output_type": "stream",
     "text": [
      "\n",
      "score: 0.9299081397497022\n"
     ]
    },
    {
     "data": {
      "application/vnd.jupyter.widget-view+json": {
       "model_id": "c4615f55150f4d59ba5631b66564cc26",
       "version_major": 2,
       "version_minor": 0
      },
      "text/plain": [
       "HBox(children=(FloatProgress(value=0.0, max=11.0), HTML(value='')))"
      ]
     },
     "metadata": {},
     "output_type": "display_data"
    },
    {
     "name": "stdout",
     "output_type": "stream",
     "text": [
      "\n"
     ]
    },
    {
     "data": {
      "application/vnd.jupyter.widget-view+json": {
       "model_id": "dbdac0b24c344df597228fbc32865776",
       "version_major": 2,
       "version_minor": 0
      },
      "text/plain": [
       "HBox(children=(FloatProgress(value=0.0, max=963758.0), HTML(value='')))"
      ]
     },
     "metadata": {},
     "output_type": "display_data"
    },
    {
     "name": "stdout",
     "output_type": "stream",
     "text": [
      "\n"
     ]
    },
    {
     "data": {
      "application/vnd.jupyter.widget-view+json": {
       "model_id": "bf98e114edcc4302b9763fc51515b949",
       "version_major": 2,
       "version_minor": 0
      },
      "text/plain": [
       "HBox(children=(FloatProgress(value=0.0, max=1999999.0), HTML(value='')))"
      ]
     },
     "metadata": {},
     "output_type": "display_data"
    },
    {
     "name": "stdout",
     "output_type": "stream",
     "text": [
      "\n",
      "score: 0.930220770278687\n",
      "\n"
     ]
    }
   ],
   "source": [
    "X_train = train.signal\n",
    "y_train = train.open_channels\n",
    "\n",
    "X_test = test.signal\n",
    "\n",
    "n_fold = 5\n",
    "folds = KFold(n_splits=n_fold, shuffle=True, random_state=17)\n",
    "\n",
    "oof = np.zeros(len(X_train))\n",
    "prediction = np.zeros(len(X_test))\n",
    "scores = []\n",
    "\n",
    "for training_index, validation_index in tqdm(folds.split(X_train), total=n_fold):\n",
    "        # разбиение на трэйн и валидацию\n",
    "        X_train_ = X_train.iloc[training_index]\n",
    "        y_train_ = y_train[training_index]\n",
    "        X_valid = X_train.iloc[validation_index]\n",
    "        y_valid = y_train[validation_index]\n",
    "        \n",
    "        true_state = y_train_.values\n",
    "        signal = X_train_.values\n",
    "        \n",
    "        model = ViterbiClassifier().fit(signal, true_state)\n",
    "        \n",
    "        # скор на валидации\n",
    "        preds = model.predict(X_valid.values)\n",
    "        oof[validation_index] = preds.reshape(-1,)\n",
    "        \n",
    "        preds = np.round(np.clip(preds, 0, 10)).astype(int)\n",
    "        score = f1_score(y_valid, preds, average = 'macro')\n",
    "        scores.append(score)\n",
    "        \n",
    "        # предсказание на тесте\n",
    "        preds = model.predict(X_test)\n",
    "        prediction += preds\n",
    "        \n",
    "        print(f'score: {score}')\n",
    "        \n",
    "prediction /= n_fold"
   ]
  },
  {
   "cell_type": "markdown",
   "metadata": {},
   "source": [
    "Алгоритм показал сравнительно высокий скор на валидации.\n",
    "Учитывая, что никаких дополнительных фичей здесь не используется, \n",
    "только непосредственное приближение восстановления скрытых состояний по видимым, это очень хороший результат.\n",
    "\n",
    "Сохраним результат работы и oof предсказания для стекинга."
   ]
  },
  {
   "cell_type": "code",
   "execution_count": 69,
   "metadata": {},
   "outputs": [],
   "source": [
    "def pred_proc(pred):\n",
    "    pred = np.round(np.clip(pred, 0, 10))\n",
    "    return pred.astype(int)"
   ]
  },
  {
   "cell_type": "code",
   "execution_count": 70,
   "metadata": {},
   "outputs": [],
   "source": [
    "y_catboost_pred = pred_proc(prediction)\n",
    "\n",
    "sample_df = pd.read_csv(\"data/sample_submission.csv\", dtype={'time':str})\n",
    "sample_df['open_channels'] = y_catboost_pred\n",
    "sample_df.to_csv(\"viterbi_best.csv\", index=False, float_format='%.4f')"
   ]
  },
  {
   "cell_type": "code",
   "execution_count": 71,
   "metadata": {},
   "outputs": [],
   "source": [
    "np.save('preds_viterbi_best', prediction)\n",
    "np.save('oof_viterbi_best', oof)"
   ]
  },
  {
   "cell_type": "markdown",
   "metadata": {},
   "source": [
    "Посмотрим теперь, какое качество алгоритм даёт на наших данных."
   ]
  },
  {
   "cell_type": "code",
   "execution_count": 15,
   "metadata": {},
   "outputs": [
    {
     "data": {
      "application/vnd.jupyter.widget-view+json": {
       "model_id": "2e9d5cfc30934a419bb818b47aebd83e",
       "version_major": 2,
       "version_minor": 0
      },
      "text/plain": [
       "HBox(children=(FloatProgress(value=0.0, max=11.0), HTML(value='')))"
      ]
     },
     "metadata": {},
     "output_type": "display_data"
    },
    {
     "name": "stdout",
     "output_type": "stream",
     "text": [
      "\n"
     ]
    },
    {
     "data": {
      "application/vnd.jupyter.widget-view+json": {
       "model_id": "25fbeb2a20a444fa9dc7af574575224c",
       "version_major": 2,
       "version_minor": 0
      },
      "text/plain": [
       "HBox(children=(FloatProgress(value=0.0, max=4999999.0), HTML(value='')))"
      ]
     },
     "metadata": {},
     "output_type": "display_data"
    },
    {
     "name": "stdout",
     "output_type": "stream",
     "text": [
      "\n"
     ]
    }
   ],
   "source": [
    "train = pd.read_csv('data-without-drift/train_clean.csv')\n",
    "test  = pd.read_csv('data-without-drift/test_clean.csv')\n",
    "\n",
    "true_state = train.open_channels.values\n",
    "signal = train.signal.values\n",
    "\n",
    "viterbi = ViterbiClassifier().fit(signal, true_state)\n",
    "train_prediction = viterbi.predict(signal)"
   ]
  },
  {
   "cell_type": "code",
   "execution_count": 16,
   "metadata": {},
   "outputs": [
    {
     "name": "stdout",
     "output_type": "stream",
     "text": [
      "Accuracy = 0.9117018\n",
      "F1 macro = 0.8518252491783009\n"
     ]
    }
   ],
   "source": [
    "print(\"Accuracy =\", accuracy_score(y_pred=train_prediction, y_true=true_state))\n",
    "print(\"F1 macro =\", f1_score(y_pred=train_prediction, y_true=true_state, average='macro'))"
   ]
  },
  {
   "cell_type": "markdown",
   "metadata": {},
   "source": [
    "Качество даже на обучающей выборке совсем далеко от оптимального, поэтому будем использовать предыдущий датасет."
   ]
  },
  {
   "cell_type": "code",
   "execution_count": null,
   "metadata": {},
   "outputs": [],
   "source": []
  }
 ],
 "metadata": {
  "kernelspec": {
   "display_name": "Python [conda env:stats] *",
   "language": "python",
   "name": "conda-env-stats-py"
  },
  "language_info": {
   "codemirror_mode": {
    "name": "ipython",
    "version": 3
   },
   "file_extension": ".py",
   "mimetype": "text/x-python",
   "name": "python",
   "nbconvert_exporter": "python",
   "pygments_lexer": "ipython3",
   "version": "3.7.6"
  }
 },
 "nbformat": 4,
 "nbformat_minor": 4
}
